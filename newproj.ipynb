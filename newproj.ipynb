{
  "cells": [
    {
      "cell_type": "code",
      "source": [
        "from google.colab import drive\n",
        "import sys\n",
        "\n",
        "# Mount Google Drive\n",
        "drive.mount('/content/drive')\n",
        "\n",
        "# Get the absolute path of the current folder\n",
        "abspath_curr = '/content/drive/My Drive/Colab Notebooks/ML1/'\n",
        "\n",
        "# Get the absolute path of the shallow utilities folder\n",
        "abspath_util_shallow = '/content/drive/My Drive/Colab Notebooks/utilities/p2_shallow_learning/'\n",
        "\n",
        "# Get the absolute path of the shallow models folder\n",
        "abspath_model_shallow = '/content/drive/My Drive/Colab Notebooks/models/p2_shallow_learning/'\n",
        "\n",
        "\n",
        "\n",
        "import warnings\n",
        "\n",
        "# Ignore warnings\n",
        "warnings.filterwarnings('ignore')\n",
        "\n",
        "\n",
        "import matplotlib.pyplot as plt\n",
        "%matplotlib inline \n",
        "\n",
        "# Set matplotlib sizes\n",
        "plt.rc('font', size=20)\n",
        "plt.rc('axes', titlesize=20)\n",
        "plt.rc('axes', labelsize=20)\n",
        "plt.rc('xtick', labelsize=20)\n",
        "plt.rc('ytick', labelsize=20)\n",
        "plt.rc('legend', fontsize=20)\n",
        "plt.rc('figure', titlesize=20)\n",
        "\n",
        "%tensorflow_version 2.x \n",
        "import tensorflow as tf\n",
        "from tensorflow import keras\n",
        "\n",
        "\n",
        "# The random seed\n",
        "random_seed = 42\n",
        "\n",
        "# Set random seed in tensorflow\n",
        "tf.random.set_seed(random_seed)\n",
        "\n",
        "# Set random seed in numpy\n",
        "import numpy as np\n",
        "np.random.seed(random_seed)\n",
        "\n",
        "# Change working directory to the absolute path of the shallow utilities folder\n",
        "%cd $abspath_util_shallow\n",
        "\n",
        "# Import the shallow utitilities\n",
        "%run pmlm_utilities_shallow.ipynb"
      ],
      "metadata": {
        "id": "AB54R6NjQWJg",
        "colab": {
          "base_uri": "https://localhost:8080/"
        },
        "outputId": "3e9bf99a-270c-4677-bd6f-199b9368ab47"
      },
      "execution_count": 67,
      "outputs": [
        {
          "output_type": "stream",
          "name": "stderr",
          "text": [
            "ERROR:root:File `'pmlm_utilities_shallow.ipynb.py'` not found.\n"
          ]
        },
        {
          "output_type": "stream",
          "name": "stdout",
          "text": [
            "Drive already mounted at /content/drive; to attempt to forcibly remount, call drive.mount(\"/content/drive\", force_remount=True).\n",
            "Colab only includes TensorFlow 2.x; %tensorflow_version has no effect.\n",
            "[Errno 2] No such file or directory: '/content/drive/My Drive/Colab Notebooks/utilities/p2_shallow_learning/'\n",
            "/content\n"
          ]
        }
      ]
    },
    {
      "cell_type": "code",
      "execution_count": 68,
      "metadata": {
        "id": "b8gadIDEDTBq"
      },
      "outputs": [],
      "source": [
        "\n",
        "import numpy as np\n",
        "import pandas as pd\n",
        "import matplotlib.pyplot as plt\n",
        "import seaborn as sns\n",
        "\n",
        "\n"
      ]
    },
    {
      "cell_type": "code",
      "execution_count": 69,
      "metadata": {
        "id": "CHKwX4SQDTBx"
      },
      "outputs": [],
      "source": [
        "df = pd.read_csv(abspath_curr + 'data/sessions.csv')\n",
        "\n"
      ]
    },
    {
      "cell_type": "code",
      "execution_count": 70,
      "metadata": {
        "id": "0qcyffgXDTBy",
        "outputId": "405ad7b2-fa03-4057-a823-5e8289f31f78",
        "colab": {
          "base_uri": "https://localhost:8080/"
        }
      },
      "outputs": [
        {
          "output_type": "stream",
          "name": "stdout",
          "text": [
            "<bound method NDFrame.head of              user_id            action action_type  \\\n",
            "0         d1mm9tcy42            lookup         NaN   \n",
            "1         d1mm9tcy42    search_results       click   \n",
            "2         d1mm9tcy42            lookup         NaN   \n",
            "3         d1mm9tcy42    search_results       click   \n",
            "4         d1mm9tcy42            lookup         NaN   \n",
            "...              ...               ...         ...   \n",
            "10567732  9uqfg8txu3         dashboard        view   \n",
            "10567733  9uqfg8txu3              edit        view   \n",
            "10567734  9uqfg8txu3     webcam_upload   -unknown-   \n",
            "10567735  9uqfg8txu3            active   -unknown-   \n",
            "10567736  9uqfg8txu3  show_personalize        data   \n",
            "\n",
            "                        action_detail      device_type  secs_elapsed  \n",
            "0                                 NaN  Windows Desktop         319.0  \n",
            "1                 view_search_results  Windows Desktop       67753.0  \n",
            "2                                 NaN  Windows Desktop         301.0  \n",
            "3                 view_search_results  Windows Desktop       22141.0  \n",
            "4                                 NaN  Windows Desktop         435.0  \n",
            "...                               ...              ...           ...  \n",
            "10567732                    dashboard  Windows Desktop         556.0  \n",
            "10567733                 edit_profile  Windows Desktop        6624.0  \n",
            "10567734                    -unknown-  Windows Desktop      200125.0  \n",
            "10567735                    -unknown-        -unknown-       17624.0  \n",
            "10567736  user_profile_content_update  Windows Desktop        1221.0  \n",
            "\n",
            "[10567737 rows x 6 columns]>\n"
          ]
        }
      ],
      "source": [
        "print(df.head)\n",
        "\n",
        "\n",
        "dfsample=df.sample(n=10000, random_state=47)"
      ]
    },
    {
      "cell_type": "code",
      "execution_count": 71,
      "metadata": {
        "id": "1l3SHg2hDTBz",
        "outputId": "1d66bc6c-429c-4ca3-a0ae-159e3bd40652",
        "colab": {
          "base_uri": "https://localhost:8080/"
        }
      },
      "outputs": [
        {
          "output_type": "stream",
          "name": "stdout",
          "text": [
            "['user_id', 'action', 'action_type', 'action_detail', 'device_type', 'secs_elapsed']\n"
          ]
        }
      ],
      "source": [
        "column_names = list(dfsample.columns)\n",
        "print(column_names)"
      ]
    },
    {
      "cell_type": "code",
      "execution_count": 72,
      "metadata": {
        "id": "llIroxGpDTBz"
      },
      "outputs": [],
      "source": [
        "df_grouped = df.groupby(by=\"user_id\")[\"secs_elapsed\"].sum()"
      ]
    },
    {
      "cell_type": "code",
      "execution_count": 73,
      "metadata": {
        "id": "Yulwosr8DTB0"
      },
      "outputs": [],
      "source": [
        "df_grouped.to_csv(\"session_grouped.csv\")"
      ]
    },
    {
      "cell_type": "code",
      "execution_count": 74,
      "metadata": {
        "id": "JNUL8MMoDTB0",
        "outputId": "e5d78d5c-ca5b-4e5f-d62f-45449ccc6aee",
        "colab": {
          "base_uri": "https://localhost:8080/"
        }
      },
      "outputs": [
        {
          "output_type": "stream",
          "name": "stdout",
          "text": [
            "user_id\n",
            "00023iyk9l     867896.0\n",
            "0010k6l0om     586543.0\n",
            "001wyh0pz8     282965.0\n",
            "0028jgx1x1     297010.0\n",
            "002qnbzfs5    6487080.0\n",
            "                ...    \n",
            "zzxox7jnrx     639436.0\n",
            "zzy7t0y9cm      73771.0\n",
            "zzysuoqg6x       1731.0\n",
            "zzywmcn0jv    2149949.0\n",
            "zzzlylp57e     430959.0\n",
            "Name: secs_elapsed, Length: 135483, dtype: float64\n"
          ]
        }
      ],
      "source": [
        "print(df_grouped)"
      ]
    },
    {
      "cell_type": "code",
      "execution_count": 77,
      "metadata": {
        "id": "QgUW0FZADTB0"
      },
      "outputs": [],
      "source": [
        "# computing number of rows\n",
        "rows = len(df_grouped.axes[0])\n",
        " \n"
      ]
    },
    {
      "cell_type": "code",
      "execution_count": 76,
      "metadata": {
        "id": "0aV1uLyWDTB2",
        "outputId": "959dd5ad-a067-4359-abb9-f8d3a3e7035d",
        "colab": {
          "base_uri": "https://localhost:8080/"
        }
      },
      "outputs": [
        {
          "output_type": "stream",
          "name": "stdout",
          "text": [
            "135483\n"
          ]
        }
      ],
      "source": [
        "# computing number of columns\n",
        "print(rows)\n",
        " \n"
      ]
    },
    {
      "cell_type": "code",
      "execution_count": 79,
      "metadata": {
        "id": "uj5kAV1sDTB2"
      },
      "outputs": [],
      "source": [
        "df_train=pd.read_csv(abspath_curr + 'data/train.csv')\n",
        "df_test=pd.read_csv(abspath_curr + 'data/test.csv')\n",
        "\n",
        "\n"
      ]
    },
    {
      "cell_type": "code",
      "execution_count": 80,
      "metadata": {
        "id": "j_nJihg0DTB3",
        "outputId": "0ce71b7f-d25c-4b80-f7eb-9456b0943a45",
        "colab": {
          "base_uri": "https://localhost:8080/"
        }
      },
      "outputs": [
        {
          "output_type": "stream",
          "name": "stdout",
          "text": [
            "['user_id', 'date_account_created', 'timestamp_first_active', 'date_first_booking', 'gender', 'age', 'signup_method', 'signup_flow', 'language', 'affiliate_channel', 'affiliate_provider', 'first_affiliate_tracked', 'signup_app', 'first_device_type', 'first_browser', 'country_destination']\n",
            "['user_id', 'date_account_created', 'timestamp_first_active', 'date_first_booking', 'gender', 'age', 'signup_method', 'signup_flow', 'language', 'affiliate_channel', 'affiliate_provider', 'first_affiliate_tracked', 'signup_app', 'first_device_type', 'first_browser']\n"
          ]
        }
      ],
      "source": [
        "\n",
        "column_names2 = list(df_train.columns)\n",
        "print(column_names2)\n",
        "\n",
        "column_names3 = list(df_test.columns)\n",
        "print(column_names3)"
      ]
    },
    {
      "cell_type": "code",
      "execution_count": 27,
      "metadata": {
        "id": "yYDKi6CFDTB3"
      },
      "outputs": [],
      "source": [
        "dfg_train = df_train.groupby(by=\"id\")\n",
        "dfg_test = df_test.groupby(by=\"id\")"
      ]
    },
    {
      "cell_type": "code",
      "execution_count": 81,
      "metadata": {
        "id": "1UylFnw9DTB3"
      },
      "outputs": [],
      "source": [
        "\n",
        "trainrows = len(df_train.axes[0])\n",
        "testrows=len(df_test.axes[0])"
      ]
    },
    {
      "cell_type": "code",
      "execution_count": 82,
      "metadata": {
        "id": "nuYl_iQVDTB3",
        "outputId": "1cfffc69-5019-414d-b9b8-a28b57dee3df",
        "colab": {
          "base_uri": "https://localhost:8080/"
        }
      },
      "outputs": [
        {
          "output_type": "stream",
          "name": "stdout",
          "text": [
            "213451\n"
          ]
        }
      ],
      "source": [
        "print(trainrows)"
      ]
    },
    {
      "cell_type": "code",
      "execution_count": 83,
      "metadata": {
        "id": "DTng2aFHDTB4",
        "outputId": "28013322-2f61-4691-a30b-6e3ca55f66a4",
        "colab": {
          "base_uri": "https://localhost:8080/"
        }
      },
      "outputs": [
        {
          "output_type": "stream",
          "name": "stdout",
          "text": [
            "62096\n"
          ]
        }
      ],
      "source": [
        "print(testrows)"
      ]
    },
    {
      "cell_type": "code",
      "execution_count": 86,
      "metadata": {
        "id": "CXAbdTLuDTB4"
      },
      "outputs": [],
      "source": [
        "train_new=df_train.merge(df_grouped, on=\"user_id\", how=\"left\")"
      ]
    },
    {
      "cell_type": "code",
      "execution_count": 87,
      "metadata": {
        "id": "Nka3GEXVDTB4"
      },
      "outputs": [],
      "source": [
        "test_new=df_test.merge(df_grouped, on=\"user_id\", how=\"inner\")"
      ]
    },
    {
      "cell_type": "code",
      "execution_count": 88,
      "metadata": {
        "id": "MmNnkt-ADTB4",
        "colab": {
          "base_uri": "https://localhost:8080/"
        },
        "outputId": "cf5ce61d-838f-4b26-bec0-d679cac08e32"
      },
      "outputs": [
        {
          "output_type": "stream",
          "name": "stdout",
          "text": [
            "<bound method NDFrame.head of            user_id date_account_created  timestamp_first_active  \\\n",
            "0       gxn3p5htnn           2010-06-28            2.009030e+13   \n",
            "1       820tgsjxq7           2011-05-25            2.009050e+13   \n",
            "2       4ft3gnwmtx           2010-09-28            2.009060e+13   \n",
            "3       bjjt8pjhuk           2011-12-05            2.009100e+13   \n",
            "4       87mebub9p4           2010-09-14            2.009120e+13   \n",
            "...            ...                  ...                     ...   \n",
            "213446  zxodksqpep           2014-06-30            2.014060e+13   \n",
            "213447  mhewnxesx9           2014-06-30            2.014060e+13   \n",
            "213448  6o3arsjbb4           2014-06-30            2.014060e+13   \n",
            "213449  jh95kwisub           2014-06-30            2.014060e+13   \n",
            "213450  nw9fwlyb5f           2014-06-30            2.014060e+13   \n",
            "\n",
            "       date_first_booking     gender   age signup_method  signup_flow  \\\n",
            "0                     NaN  -unknown-   NaN      facebook            0   \n",
            "1                     NaN       MALE  38.0      facebook            0   \n",
            "2              2010-08-02     FEMALE  56.0         basic            3   \n",
            "3              2012-09-08     FEMALE  42.0      facebook            0   \n",
            "4              2010-02-18  -unknown-  41.0         basic            0   \n",
            "...                   ...        ...   ...           ...          ...   \n",
            "213446                NaN       MALE  32.0         basic            0   \n",
            "213447                NaN  -unknown-   NaN         basic            0   \n",
            "213448                NaN  -unknown-  32.0         basic            0   \n",
            "213449                NaN  -unknown-   NaN         basic           25   \n",
            "213450                NaN  -unknown-   NaN         basic           25   \n",
            "\n",
            "       language affiliate_channel affiliate_provider first_affiliate_tracked  \\\n",
            "0            en            direct             direct               untracked   \n",
            "1            en               seo             google               untracked   \n",
            "2            en            direct             direct               untracked   \n",
            "3            en            direct             direct               untracked   \n",
            "4            en            direct             direct               untracked   \n",
            "...         ...               ...                ...                     ...   \n",
            "213446       en         sem-brand             google                     omg   \n",
            "213447       en            direct             direct                  linked   \n",
            "213448       en            direct             direct               untracked   \n",
            "213449       en             other              other           tracked-other   \n",
            "213450       en            direct             direct               untracked   \n",
            "\n",
            "       signup_app first_device_type  first_browser country_destination  \\\n",
            "0             Web       Mac Desktop         Chrome                 NDF   \n",
            "1             Web       Mac Desktop         Chrome                 NDF   \n",
            "2             Web   Windows Desktop             IE                  US   \n",
            "3             Web       Mac Desktop        Firefox               other   \n",
            "4             Web       Mac Desktop         Chrome                  US   \n",
            "...           ...               ...            ...                 ...   \n",
            "213446        Web       Mac Desktop         Safari                 NDF   \n",
            "213447        Web   Windows Desktop         Chrome                 NDF   \n",
            "213448        Web       Mac Desktop        Firefox                 NDF   \n",
            "213449        iOS            iPhone  Mobile Safari                 NDF   \n",
            "213450        iOS            iPhone      -unknown-                 NDF   \n",
            "\n",
            "        secs_elapsed  \n",
            "0                NaN  \n",
            "1                NaN  \n",
            "2                NaN  \n",
            "3                NaN  \n",
            "4                NaN  \n",
            "...              ...  \n",
            "213446     5141396.0  \n",
            "213447     2878924.0  \n",
            "213448      342982.0  \n",
            "213449      341609.0  \n",
            "213450     2759210.0  \n",
            "\n",
            "[213451 rows x 17 columns]>\n"
          ]
        }
      ],
      "source": [
        "print(train_new.head)"
      ]
    },
    {
      "cell_type": "code",
      "execution_count": 89,
      "metadata": {
        "id": "2lCUH2FFDTB5",
        "colab": {
          "base_uri": "https://localhost:8080/"
        },
        "outputId": "c06df691-fdbf-41ca-8c2d-3e3d9162a3f1"
      },
      "outputs": [
        {
          "output_type": "stream",
          "name": "stdout",
          "text": [
            "<bound method NDFrame.head of           user_id date_account_created  timestamp_first_active  \\\n",
            "0      5uwns89zht           2014-07-01            2.014070e+13   \n",
            "1      jtl0dijy2j           2014-07-01            2.014070e+13   \n",
            "2      xx0ulgorjt           2014-07-01            2.014070e+13   \n",
            "3      6c6puo6ix0           2014-07-01            2.014070e+13   \n",
            "4      czqhjk3yfe           2014-07-01            2.014070e+13   \n",
            "...           ...                  ...                     ...   \n",
            "61663  cv0na2lf5a           2014-09-30            2.014090e+13   \n",
            "61664  zp8xfonng8           2014-09-30            2.014090e+13   \n",
            "61665  fa6260ziny           2014-09-30            2.014090e+13   \n",
            "61666  87k0fy4ugm           2014-09-30            2.014090e+13   \n",
            "61667  9uqfg8txu3           2014-09-30            2.014090e+13   \n",
            "\n",
            "       date_first_booking     gender   age signup_method  signup_flow  \\\n",
            "0                     NaN     FEMALE  35.0      facebook            0   \n",
            "1                     NaN  -unknown-   NaN         basic            0   \n",
            "2                     NaN  -unknown-   NaN         basic            0   \n",
            "3                     NaN  -unknown-   NaN         basic            0   \n",
            "4                     NaN  -unknown-   NaN         basic            0   \n",
            "...                   ...        ...   ...           ...          ...   \n",
            "61663                 NaN  -unknown-  31.0         basic            0   \n",
            "61664                 NaN  -unknown-   NaN         basic           23   \n",
            "61665                 NaN  -unknown-   NaN         basic            0   \n",
            "61666                 NaN  -unknown-   NaN         basic            0   \n",
            "61667                 NaN     FEMALE  49.0         basic            0   \n",
            "\n",
            "      language affiliate_channel affiliate_provider first_affiliate_tracked  \\\n",
            "0           en            direct             direct               untracked   \n",
            "1           en            direct             direct               untracked   \n",
            "2           en            direct             direct                  linked   \n",
            "3           en            direct             direct                  linked   \n",
            "4           en            direct             direct               untracked   \n",
            "...        ...               ...                ...                     ...   \n",
            "61663       en            direct             direct               untracked   \n",
            "61664       ko            direct             direct               untracked   \n",
            "61665       de            direct             direct                  linked   \n",
            "61666       en         sem-brand             google                     omg   \n",
            "61667       en             other              other           tracked-other   \n",
            "\n",
            "      signup_app first_device_type  first_browser  secs_elapsed  \n",
            "0          Moweb            iPhone  Mobile Safari      119187.0  \n",
            "1          Moweb            iPhone  Mobile Safari      250119.0  \n",
            "2            Web   Windows Desktop         Chrome      975575.0  \n",
            "3            Web   Windows Desktop             IE      123001.0  \n",
            "4            Web       Mac Desktop         Safari      454023.0  \n",
            "...          ...               ...            ...           ...  \n",
            "61663        Web   Windows Desktop             IE     2534232.0  \n",
            "61664    Android     Android Phone      -unknown-       51618.0  \n",
            "61665        Web   Windows Desktop        Firefox      823297.0  \n",
            "61666        Web       Mac Desktop         Safari      352068.0  \n",
            "61667        Web   Windows Desktop         Chrome     2804544.0  \n",
            "\n",
            "[61668 rows x 16 columns]>\n"
          ]
        }
      ],
      "source": [
        "print(test_new.head)"
      ]
    },
    {
      "cell_type": "code",
      "execution_count": 90,
      "metadata": {
        "id": "q0oqOUhODTB5"
      },
      "outputs": [],
      "source": [
        "dfmain=pd.concat([train_new, test_new], ignore_index=True)"
      ]
    },
    {
      "cell_type": "code",
      "execution_count": 91,
      "metadata": {
        "id": "GUJr_6_pDTB5",
        "colab": {
          "base_uri": "https://localhost:8080/"
        },
        "outputId": "5f5e91ec-1ed0-4285-c2bd-f47df82724f8"
      },
      "outputs": [
        {
          "output_type": "stream",
          "name": "stdout",
          "text": [
            "<bound method NDFrame.head of            user_id date_account_created  timestamp_first_active  \\\n",
            "0       gxn3p5htnn           2010-06-28            2.009030e+13   \n",
            "1       820tgsjxq7           2011-05-25            2.009050e+13   \n",
            "2       4ft3gnwmtx           2010-09-28            2.009060e+13   \n",
            "3       bjjt8pjhuk           2011-12-05            2.009100e+13   \n",
            "4       87mebub9p4           2010-09-14            2.009120e+13   \n",
            "...            ...                  ...                     ...   \n",
            "275114  cv0na2lf5a           2014-09-30            2.014090e+13   \n",
            "275115  zp8xfonng8           2014-09-30            2.014090e+13   \n",
            "275116  fa6260ziny           2014-09-30            2.014090e+13   \n",
            "275117  87k0fy4ugm           2014-09-30            2.014090e+13   \n",
            "275118  9uqfg8txu3           2014-09-30            2.014090e+13   \n",
            "\n",
            "       date_first_booking     gender   age signup_method  signup_flow  \\\n",
            "0                     NaN  -unknown-   NaN      facebook            0   \n",
            "1                     NaN       MALE  38.0      facebook            0   \n",
            "2              2010-08-02     FEMALE  56.0         basic            3   \n",
            "3              2012-09-08     FEMALE  42.0      facebook            0   \n",
            "4              2010-02-18  -unknown-  41.0         basic            0   \n",
            "...                   ...        ...   ...           ...          ...   \n",
            "275114                NaN  -unknown-  31.0         basic            0   \n",
            "275115                NaN  -unknown-   NaN         basic           23   \n",
            "275116                NaN  -unknown-   NaN         basic            0   \n",
            "275117                NaN  -unknown-   NaN         basic            0   \n",
            "275118                NaN     FEMALE  49.0         basic            0   \n",
            "\n",
            "       language affiliate_channel affiliate_provider first_affiliate_tracked  \\\n",
            "0            en            direct             direct               untracked   \n",
            "1            en               seo             google               untracked   \n",
            "2            en            direct             direct               untracked   \n",
            "3            en            direct             direct               untracked   \n",
            "4            en            direct             direct               untracked   \n",
            "...         ...               ...                ...                     ...   \n",
            "275114       en            direct             direct               untracked   \n",
            "275115       ko            direct             direct               untracked   \n",
            "275116       de            direct             direct                  linked   \n",
            "275117       en         sem-brand             google                     omg   \n",
            "275118       en             other              other           tracked-other   \n",
            "\n",
            "       signup_app first_device_type first_browser country_destination  \\\n",
            "0             Web       Mac Desktop        Chrome                 NDF   \n",
            "1             Web       Mac Desktop        Chrome                 NDF   \n",
            "2             Web   Windows Desktop            IE                  US   \n",
            "3             Web       Mac Desktop       Firefox               other   \n",
            "4             Web       Mac Desktop        Chrome                  US   \n",
            "...           ...               ...           ...                 ...   \n",
            "275114        Web   Windows Desktop            IE                 NaN   \n",
            "275115    Android     Android Phone     -unknown-                 NaN   \n",
            "275116        Web   Windows Desktop       Firefox                 NaN   \n",
            "275117        Web       Mac Desktop        Safari                 NaN   \n",
            "275118        Web   Windows Desktop        Chrome                 NaN   \n",
            "\n",
            "        secs_elapsed  \n",
            "0                NaN  \n",
            "1                NaN  \n",
            "2                NaN  \n",
            "3                NaN  \n",
            "4                NaN  \n",
            "...              ...  \n",
            "275114     2534232.0  \n",
            "275115       51618.0  \n",
            "275116      823297.0  \n",
            "275117      352068.0  \n",
            "275118     2804544.0  \n",
            "\n",
            "[275119 rows x 17 columns]>\n"
          ]
        }
      ],
      "source": [
        "print(dfmain.head)"
      ]
    },
    {
      "cell_type": "code",
      "source": [
        "dfmain.to_csv(abspath_curr + 'data/dfmain.csv')"
      ],
      "metadata": {
        "id": "HxPVVwBox425"
      },
      "execution_count": 94,
      "outputs": []
    },
    {
      "cell_type": "code",
      "source": [
        "dfmain = pd.read_csv(abspath_curr + 'data/dfmain.csv')"
      ],
      "metadata": {
        "id": "HagfzdHvyCTn"
      },
      "execution_count": 95,
      "outputs": []
    },
    {
      "cell_type": "code",
      "execution_count": 96,
      "metadata": {
        "id": "lwZtbofUDTB5",
        "colab": {
          "base_uri": "https://localhost:8080/"
        },
        "outputId": "8ec98f5c-3f27-4680-9674-c71b7d1828a4"
      },
      "outputs": [
        {
          "output_type": "stream",
          "name": "stdout",
          "text": [
            "Index(['Unnamed: 0', 'user_id', 'date_account_created',\n",
            "       'timestamp_first_active', 'date_first_booking', 'gender', 'age',\n",
            "       'signup_method', 'signup_flow', 'language', 'affiliate_channel',\n",
            "       'affiliate_provider', 'first_affiliate_tracked', 'signup_app',\n",
            "       'first_device_type', 'first_browser', 'country_destination',\n",
            "       'secs_elapsed'],\n",
            "      dtype='object')\n"
          ]
        }
      ],
      "source": [
        "print(dfmain.columns)"
      ]
    },
    {
      "cell_type": "code",
      "execution_count": 97,
      "metadata": {
        "id": "qEMUiwMxDTB5",
        "colab": {
          "base_uri": "https://localhost:8080/"
        },
        "outputId": "199359ca-4afe-4066-a2d3-8e7e3f51e873"
      },
      "outputs": [
        {
          "output_type": "stream",
          "name": "stdout",
          "text": [
            "0         1\n",
            "183417    1\n",
            "183403    1\n",
            "183404    1\n",
            "183405    1\n",
            "         ..\n",
            "91712     1\n",
            "91713     1\n",
            "91714     1\n",
            "91715     1\n",
            "275118    1\n",
            "Name: Unnamed: 0, Length: 275119, dtype: int64\n",
            "gxn3p5htnn    1\n",
            "rovxhr6nog    1\n",
            "nc4ux3q4tw    1\n",
            "kud7w7rgt3    1\n",
            "wy8zv6d1n9    1\n",
            "             ..\n",
            "d8a9p2h103    1\n",
            "ktt0xx5atu    1\n",
            "clv09xnxyp    1\n",
            "gq1fzwpxeb    1\n",
            "9uqfg8txu3    1\n",
            "Name: user_id, Length: 275119, dtype: int64\n",
            "2014-07-23    1098\n",
            "2014-07-22    1044\n",
            "2014-07-17     972\n",
            "2014-07-24     920\n",
            "2014-07-18     885\n",
            "              ... \n",
            "2010-04-11       1\n",
            "2010-01-23       1\n",
            "2010-01-28       1\n",
            "2010-01-31       1\n",
            "2010-06-18       1\n",
            "Name: date_account_created, Length: 1726, dtype: int64\n",
            "2.014070e+13    21525\n",
            "2.014080e+13    21500\n",
            "2.014090e+13    18643\n",
            "2.014060e+13    15741\n",
            "2.014050e+13    14888\n",
            "                ...  \n",
            "2.009100e+13        1\n",
            "2.009060e+13        1\n",
            "2.009050e+13        1\n",
            "2.009120e+13        1\n",
            "2.009030e+13        1\n",
            "Name: timestamp_first_active, Length: 62, dtype: int64\n",
            "2014-05-22    248\n",
            "2014-06-11    231\n",
            "2014-06-24    226\n",
            "2014-05-21    225\n",
            "2014-06-10    223\n",
            "             ... \n",
            "2010-01-31      1\n",
            "2010-02-09      1\n",
            "2010-06-10      1\n",
            "2010-02-04      1\n",
            "2015-06-28      1\n",
            "Name: date_first_booking, Length: 1976, dtype: int64\n",
            "-unknown-    129186\n",
            "FEMALE        77458\n",
            "MALE          68142\n",
            "OTHER           333\n",
            "Name: gender, dtype: int64\n",
            "30.0      7708\n",
            "28.0      7680\n",
            "29.0      7642\n",
            "31.0      7533\n",
            "27.0      7453\n",
            "          ... \n",
            "2008.0       1\n",
            "1995.0       1\n",
            "1942.0       1\n",
            "1953.0       1\n",
            "1941.0       1\n",
            "Name: age, Length: 144, dtype: int64\n",
            "basic       197876\n",
            "facebook     74792\n",
            "google        2429\n",
            "weibo           22\n",
            "Name: signup_method, dtype: int64\n",
            "0     205851\n",
            "25     29697\n",
            "12     11234\n",
            "3       8822\n",
            "2       6881\n",
            "23      6374\n",
            "24      4328\n",
            "1       1047\n",
            "8        313\n",
            "6        301\n",
            "21       197\n",
            "5         36\n",
            "20        14\n",
            "16        11\n",
            "15        10\n",
            "10         2\n",
            "4          1\n",
            "Name: signup_flow, dtype: int64\n",
            "en           265134\n",
            "zh             2626\n",
            "fr             1506\n",
            "es             1171\n",
            "ko             1109\n",
            "de              975\n",
            "it              633\n",
            "ru              508\n",
            "ja              344\n",
            "pt              322\n",
            "sv              176\n",
            "nl              134\n",
            "tr               92\n",
            "da               75\n",
            "pl               74\n",
            "no               51\n",
            "cs               49\n",
            "el               30\n",
            "th               28\n",
            "hu               25\n",
            "id               23\n",
            "fi               20\n",
            "ca                6\n",
            "is                5\n",
            "hr                2\n",
            "-unknown-         1\n",
            "Name: language, dtype: int64\n",
            "direct           181232\n",
            "sem-brand         36394\n",
            "sem-non-brand     20067\n",
            "seo               14328\n",
            "other              9546\n",
            "api                8167\n",
            "content            4118\n",
            "remarketing        1267\n",
            "Name: affiliate_channel, dtype: int64\n",
            "direct                 180931\n",
            "google                  65888\n",
            "other                   13035\n",
            "facebook                 3986\n",
            "bing                     3711\n",
            "craigslist               3475\n",
            "padmapper                 836\n",
            "vast                      830\n",
            "yahoo                     653\n",
            "facebook-open-graph       566\n",
            "gsp                       455\n",
            "meetup                    358\n",
            "email-marketing           270\n",
            "naver                      64\n",
            "baidu                      32\n",
            "yandex                     18\n",
            "wayn                        8\n",
            "daum                        3\n",
            "Name: affiliate_provider, dtype: int64\n",
            "untracked        142934\n",
            "linked            61967\n",
            "omg               54796\n",
            "tracked-other      6653\n",
            "product            2348\n",
            "marketing           281\n",
            "local ops            69\n",
            "Name: first_affiliate_tracked, dtype: int64\n",
            "Web        219679\n",
            "iOS         34469\n",
            "Moweb       10491\n",
            "Android     10480\n",
            "Name: signup_app, dtype: int64\n",
            "Mac Desktop           106240\n",
            "Windows Desktop        86837\n",
            "iPhone                 39662\n",
            "iPad                   18026\n",
            "Other/Unknown          11148\n",
            "Android Phone           9419\n",
            "Android Tablet          2092\n",
            "Desktop (Other)         1505\n",
            "SmartPhone (Other)       190\n",
            "Name: first_device_type, dtype: int64\n",
            "Chrome                  78575\n",
            "Safari                  53262\n",
            "-unknown-               44256\n",
            "Firefox                 38627\n",
            "Mobile Safari           29573\n",
            "IE                      24713\n",
            "Chrome Mobile            3172\n",
            "Android Browser          1572\n",
            "AOL Explorer              254\n",
            "Opera                     228\n",
            "Silk                      172\n",
            "IE Mobile                 117\n",
            "BlackBerry Browser         89\n",
            "Chromium                   83\n",
            "Mobile Firefox             63\n",
            "Maxthon                    59\n",
            "Apple Mail                 45\n",
            "Sogou Explorer             43\n",
            "SiteKiosk                  27\n",
            "Iron                       24\n",
            "RockMelt                   24\n",
            "IceWeasel                  14\n",
            "Yandex.Browser             14\n",
            "Pale Moon                  13\n",
            "SeaMonkey                  12\n",
            "CometBird                  12\n",
            "Camino                      9\n",
            "TenFourFox                  8\n",
            "Opera Mini                  8\n",
            "wOSBrowser                  7\n",
            "CoolNovo                    6\n",
            "Opera Mobile                4\n",
            "Avant Browser               4\n",
            "Mozilla                     3\n",
            "TheWorld Browser            2\n",
            "SlimBrowser                 2\n",
            "Flock                       2\n",
            "Comodo Dragon               2\n",
            "OmniWeb                     2\n",
            "Crazy Browser               2\n",
            "NetNewsWire                 1\n",
            "PS Vita browser             1\n",
            "Google Earth                1\n",
            "Conkeror                    1\n",
            "Kindle Browser              1\n",
            "Palm Pre web browser        1\n",
            "Arora                       1\n",
            "Epic                        1\n",
            "Stainless                   1\n",
            "Googlebot                   1\n",
            "Outlook 2007                1\n",
            "IceDragon                   1\n",
            "IBrowse                     1\n",
            "Nintendo Browser            1\n",
            "UC Browser                  1\n",
            "Name: first_browser, dtype: int64\n",
            "NDF      124543\n",
            "US        62376\n",
            "other     10094\n",
            "FR         5023\n",
            "IT         2835\n",
            "GB         2324\n",
            "ES         2249\n",
            "CA         1428\n",
            "DE         1061\n",
            "NL          762\n",
            "AU          539\n",
            "PT          217\n",
            "Name: country_destination, dtype: int64\n",
            "0.0          1483\n",
            "1000.0         10\n",
            "420.0           9\n",
            "375.0           9\n",
            "281.0           9\n",
            "             ... \n",
            "1563103.0       1\n",
            "10119.0         1\n",
            "166511.0        1\n",
            "1342476.0       1\n",
            "2804544.0       1\n",
            "Name: secs_elapsed, Length: 128280, dtype: int64\n"
          ]
        }
      ],
      "source": [
        "for i in dfmain.columns:\n",
        "    print(dfmain[i].value_counts())\n",
        "    "
      ]
    },
    {
      "cell_type": "code",
      "execution_count": 98,
      "metadata": {
        "id": "kQY7wp2_DTB5",
        "colab": {
          "base_uri": "https://localhost:8080/"
        },
        "outputId": "8ff0c11b-d8e0-43b8-a3e6-2c5f047ec1e8"
      },
      "outputs": [
        {
          "output_type": "stream",
          "name": "stdout",
          "text": [
            "0\n",
            "0\n",
            "0\n",
            "0\n",
            "186211\n",
            "0\n",
            "116591\n",
            "0\n",
            "0\n",
            "0\n",
            "0\n",
            "0\n",
            "6071\n",
            "0\n",
            "0\n",
            "0\n",
            "61668\n",
            "139636\n"
          ]
        }
      ],
      "source": [
        "for i in dfmain.columns:\n",
        "    print(dfmain[i].isna().sum())"
      ]
    },
    {
      "cell_type": "code",
      "execution_count": 99,
      "metadata": {
        "id": "4DHXP4PdDTB5",
        "colab": {
          "base_uri": "https://localhost:8080/"
        },
        "outputId": "0454d455-4f80-4623-eccf-ec6442b5f7ed"
      },
      "outputs": [
        {
          "output_type": "stream",
          "name": "stdout",
          "text": [
            "Index(['Unnamed: 0', 'user_id', 'date_account_created',\n",
            "       'timestamp_first_active', 'date_first_booking', 'gender', 'age',\n",
            "       'signup_method', 'signup_flow', 'language', 'affiliate_channel',\n",
            "       'affiliate_provider', 'first_affiliate_tracked', 'signup_app',\n",
            "       'first_device_type', 'first_browser', 'country_destination',\n",
            "       'secs_elapsed'],\n",
            "      dtype='object')\n"
          ]
        }
      ],
      "source": [
        "print(dfmain.columns)"
      ]
    },
    {
      "cell_type": "code",
      "execution_count": 100,
      "metadata": {
        "id": "epRnDIE-DTB6",
        "colab": {
          "base_uri": "https://localhost:8080/"
        },
        "outputId": "0ba0a0e1-7874-4fc7-9f97-263cdfda7c3e"
      },
      "outputs": [
        {
          "output_type": "stream",
          "name": "stdout",
          "text": [
            "-unknown-    129186\n",
            "FEMALE        77458\n",
            "MALE          68142\n",
            "OTHER           333\n",
            "Name: gender, dtype: int64\n"
          ]
        }
      ],
      "source": [
        "print(dfmain['gender'].value_counts())"
      ]
    },
    {
      "cell_type": "code",
      "execution_count": 101,
      "metadata": {
        "id": "iU4dRsmjDTB6",
        "colab": {
          "base_uri": "https://localhost:8080/"
        },
        "outputId": "3fb280a1-7ba0-4de1-bfbb-450bc2ac3081"
      },
      "outputs": [
        {
          "output_type": "stream",
          "name": "stdout",
          "text": [
            "116591\n"
          ]
        }
      ],
      "source": [
        "print(dfmain['age'].isna().sum())\n",
        "#Use Mode? "
      ]
    },
    {
      "cell_type": "code",
      "execution_count": 102,
      "metadata": {
        "id": "4uNFuRUNDTB6",
        "colab": {
          "base_uri": "https://localhost:8080/"
        },
        "outputId": "aa8d987e-c70d-4e92-f43f-c79e031fc2b6"
      },
      "outputs": [
        {
          "output_type": "stream",
          "name": "stdout",
          "text": [
            "186211\n"
          ]
        }
      ],
      "source": [
        "print(dfmain['date_first_booking'].isna().sum())\n",
        "#drop date_first_booking"
      ]
    },
    {
      "cell_type": "code",
      "execution_count": 103,
      "metadata": {
        "id": "cwK3O6gDDTB6",
        "colab": {
          "base_uri": "https://localhost:8080/"
        },
        "outputId": "a7920075-021f-46cd-fd97-4712ebf08be0"
      },
      "outputs": [
        {
          "output_type": "stream",
          "name": "stdout",
          "text": [
            "untracked        142934\n",
            "linked            61967\n",
            "omg               54796\n",
            "tracked-other      6653\n",
            "product            2348\n",
            "marketing           281\n",
            "local ops            69\n",
            "Name: first_affiliate_tracked, dtype: int64\n"
          ]
        }
      ],
      "source": [
        "\n",
        "print(dfmain['first_affiliate_tracked'].value_counts())"
      ]
    },
    {
      "cell_type": "code",
      "execution_count": 104,
      "metadata": {
        "id": "n99ZCX4dDTB6",
        "colab": {
          "base_uri": "https://localhost:8080/"
        },
        "outputId": "77a6f906-b6dc-4861-a566-cb25ee1db0ac"
      },
      "outputs": [
        {
          "output_type": "stream",
          "name": "stdout",
          "text": [
            "6071\n"
          ]
        }
      ],
      "source": [
        "print(dfmain['first_affiliate_tracked'].isna().sum())"
      ]
    },
    {
      "cell_type": "code",
      "execution_count": 105,
      "metadata": {
        "id": "FO2ZLZnFDTB6",
        "colab": {
          "base_uri": "https://localhost:8080/"
        },
        "outputId": "2e6cfa9e-763b-4121-ac78-d07b257ad826"
      },
      "outputs": [
        {
          "output_type": "stream",
          "name": "stdout",
          "text": [
            "NDF      124543\n",
            "US        62376\n",
            "other     10094\n",
            "FR         5023\n",
            "IT         2835\n",
            "GB         2324\n",
            "ES         2249\n",
            "CA         1428\n",
            "DE         1061\n",
            "NL          762\n",
            "AU          539\n",
            "PT          217\n",
            "Name: country_destination, dtype: int64\n"
          ]
        }
      ],
      "source": [
        "print(dfmain['country_destination'].value_counts())"
      ]
    },
    {
      "cell_type": "code",
      "source": [
        "dfmain['date_account_created'] = df.date_account_created.dt.strftime('%d/%m/%y')"
      ],
      "metadata": {
        "id": "oQDkmKg4WTQL",
        "colab": {
          "base_uri": "https://localhost:8080/",
          "height": 283
        },
        "outputId": "9f26a36a-b718-43f7-b9da-1d40a53a45e9"
      },
      "execution_count": 106,
      "outputs": [
        {
          "output_type": "error",
          "ename": "AttributeError",
          "evalue": "ignored",
          "traceback": [
            "\u001b[0;31m---------------------------------------------------------------------------\u001b[0m",
            "\u001b[0;31mAttributeError\u001b[0m                            Traceback (most recent call last)",
            "\u001b[0;32m<ipython-input-106-50903a33cc96>\u001b[0m in \u001b[0;36m<module>\u001b[0;34m\u001b[0m\n\u001b[0;32m----> 1\u001b[0;31m \u001b[0mdfmain\u001b[0m\u001b[0;34m[\u001b[0m\u001b[0;34m'date_account_created'\u001b[0m\u001b[0;34m]\u001b[0m \u001b[0;34m=\u001b[0m \u001b[0mdf\u001b[0m\u001b[0;34m.\u001b[0m\u001b[0mdate_account_created\u001b[0m\u001b[0;34m.\u001b[0m\u001b[0mdt\u001b[0m\u001b[0;34m.\u001b[0m\u001b[0mstrftime\u001b[0m\u001b[0;34m(\u001b[0m\u001b[0;34m'%d/%m/%y'\u001b[0m\u001b[0;34m)\u001b[0m\u001b[0;34m\u001b[0m\u001b[0;34m\u001b[0m\u001b[0m\n\u001b[0m",
            "\u001b[0;32m/usr/local/lib/python3.8/dist-packages/pandas/core/generic.py\u001b[0m in \u001b[0;36m__getattr__\u001b[0;34m(self, name)\u001b[0m\n\u001b[1;32m   5485\u001b[0m         ):\n\u001b[1;32m   5486\u001b[0m             \u001b[0;32mreturn\u001b[0m \u001b[0mself\u001b[0m\u001b[0;34m[\u001b[0m\u001b[0mname\u001b[0m\u001b[0;34m]\u001b[0m\u001b[0;34m\u001b[0m\u001b[0;34m\u001b[0m\u001b[0m\n\u001b[0;32m-> 5487\u001b[0;31m         \u001b[0;32mreturn\u001b[0m \u001b[0mobject\u001b[0m\u001b[0;34m.\u001b[0m\u001b[0m__getattribute__\u001b[0m\u001b[0;34m(\u001b[0m\u001b[0mself\u001b[0m\u001b[0;34m,\u001b[0m \u001b[0mname\u001b[0m\u001b[0;34m)\u001b[0m\u001b[0;34m\u001b[0m\u001b[0;34m\u001b[0m\u001b[0m\n\u001b[0m\u001b[1;32m   5488\u001b[0m \u001b[0;34m\u001b[0m\u001b[0m\n\u001b[1;32m   5489\u001b[0m     \u001b[0;32mdef\u001b[0m \u001b[0m__setattr__\u001b[0m\u001b[0;34m(\u001b[0m\u001b[0mself\u001b[0m\u001b[0;34m,\u001b[0m \u001b[0mname\u001b[0m\u001b[0;34m:\u001b[0m \u001b[0mstr\u001b[0m\u001b[0;34m,\u001b[0m \u001b[0mvalue\u001b[0m\u001b[0;34m)\u001b[0m \u001b[0;34m->\u001b[0m \u001b[0;32mNone\u001b[0m\u001b[0;34m:\u001b[0m\u001b[0;34m\u001b[0m\u001b[0;34m\u001b[0m\u001b[0m\n",
            "\u001b[0;31mAttributeError\u001b[0m: 'DataFrame' object has no attribute 'date_account_created'"
          ]
        }
      ]
    },
    {
      "cell_type": "code",
      "source": [
        "dfmain['month'] = df.date_account_created.dt.month\n",
        "dfmain['day'] = df.date_account_created.dt.day\n",
        "dfmain['year'] = df.date_account_created.dt.year"
      ],
      "metadata": {
        "id": "StbfOisZWegf"
      },
      "execution_count": null,
      "outputs": []
    }
  ],
  "metadata": {
    "kernelspec": {
      "display_name": "Python 3.9.12 ('base')",
      "language": "python",
      "name": "python3"
    },
    "language_info": {
      "codemirror_mode": {
        "name": "ipython",
        "version": 3
      },
      "file_extension": ".py",
      "mimetype": "text/x-python",
      "name": "python",
      "nbconvert_exporter": "python",
      "pygments_lexer": "ipython3",
      "version": "3.9.12"
    },
    "orig_nbformat": 4,
    "vscode": {
      "interpreter": {
        "hash": "ea4eb099607157f0446650997a86b72ff47e024153e03fc0a49e99fa25253e9c"
      }
    },
    "colab": {
      "provenance": []
    }
  },
  "nbformat": 4,
  "nbformat_minor": 0
}